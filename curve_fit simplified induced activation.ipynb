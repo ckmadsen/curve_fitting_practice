{
 "cells": [
  {
   "cell_type": "code",
   "execution_count": 1,
   "metadata": {
    "collapsed": true
   },
   "outputs": [],
   "source": [
    "%matplotlib inline\n",
    "import numpy as np\n",
    "import matplotlib.pyplot as plt\n",
    "import pandas as pd\n",
    "from scipy.optimize import curve_fit\n",
    "from scipy.optimize import least_squares"
   ]
  },
  {
   "cell_type": "code",
   "execution_count": 2,
   "metadata": {},
   "outputs": [
    {
     "data": {
      "text/html": [
       "<div>\n",
       "<style>\n",
       "    .dataframe thead tr:only-child th {\n",
       "        text-align: right;\n",
       "    }\n",
       "\n",
       "    .dataframe thead th {\n",
       "        text-align: left;\n",
       "    }\n",
       "\n",
       "    .dataframe tbody tr th {\n",
       "        vertical-align: top;\n",
       "    }\n",
       "</style>\n",
       "<table border=\"1\" class=\"dataframe\">\n",
       "  <thead>\n",
       "    <tr style=\"text-align: right;\">\n",
       "      <th></th>\n",
       "      <th>x1</th>\n",
       "      <th>x2</th>\n",
       "      <th>y</th>\n",
       "    </tr>\n",
       "  </thead>\n",
       "  <tbody>\n",
       "    <tr>\n",
       "      <th>0</th>\n",
       "      <td>0.0</td>\n",
       "      <td>0.0</td>\n",
       "      <td>7.60</td>\n",
       "    </tr>\n",
       "    <tr>\n",
       "      <th>1</th>\n",
       "      <td>0.0</td>\n",
       "      <td>0.2</td>\n",
       "      <td>9.24</td>\n",
       "    </tr>\n",
       "    <tr>\n",
       "      <th>2</th>\n",
       "      <td>0.0</td>\n",
       "      <td>0.4</td>\n",
       "      <td>10.88</td>\n",
       "    </tr>\n",
       "    <tr>\n",
       "      <th>3</th>\n",
       "      <td>0.0</td>\n",
       "      <td>0.6</td>\n",
       "      <td>12.52</td>\n",
       "    </tr>\n",
       "    <tr>\n",
       "      <th>4</th>\n",
       "      <td>0.0</td>\n",
       "      <td>0.8</td>\n",
       "      <td>14.16</td>\n",
       "    </tr>\n",
       "  </tbody>\n",
       "</table>\n",
       "</div>"
      ],
      "text/plain": [
       "    x1   x2      y\n",
       "0  0.0  0.0   7.60\n",
       "1  0.0  0.2   9.24\n",
       "2  0.0  0.4  10.88\n",
       "3  0.0  0.6  12.52\n",
       "4  0.0  0.8  14.16"
      ]
     },
     "execution_count": 2,
     "metadata": {},
     "output_type": "execute_result"
    }
   ],
   "source": [
    "data = pd.read_excel('data2.xlsx')\n",
    "data.head()\n",
    "######################## Some reminders ####################################\n",
    "# MyData.x                                  # Data of column called \"x\"\n",
    "# MyData.iloc[0,:]                          # First row\n",
    "# MyData.iloc[:,0]                          # First column\n",
    "# MyData.columns[0]                         # Name of first column\n",
    "# MyData['Seconds'] = 3600 * MyData.Hours   # Create a new column named as such and caluclated as such"
   ]
  },
  {
   "cell_type": "code",
   "execution_count": 3,
   "metadata": {
    "collapsed": true
   },
   "outputs": [],
   "source": [
    "def act_hill(x, maximal, Kd, n):\n",
    "    return ((maximal * x**n) / (Kd**n + x**n))\n",
    "\n",
    "# x1 = TF\n",
    "# x2 = SM\n",
    "\n",
    "def equation_to_fit(x1, x2, *args):\n",
    "    return act_hill(x1, *args[0:3]) + act_hill(x1, *args[3:6]) * act_hill(x2, *args[6:9])\n",
    "    "
   ]
  },
  {
   "cell_type": "code",
   "execution_count": 4,
   "metadata": {
    "scrolled": true
   },
   "outputs": [
    {
     "name": "stdout",
     "output_type": "stream",
     "text": [
      "0.2958312315246867\n"
     ]
    }
   ],
   "source": [
    "a = (0.1, 0.2, 0.3, 0.4, 0.5, 0.6, 0.7, 0.8, 0.9)\n",
    "print(equation_to_fit(10, 11, *a))"
   ]
  },
  {
   "cell_type": "code",
   "execution_count": 5,
   "metadata": {},
   "outputs": [
    {
     "name": "stdout",
     "output_type": "stream",
     "text": [
      "    x1   x2    y\n",
      "0  0.0  0.0  0.0\n",
      "1  0.0  0.2  0.0\n",
      "2  0.0  0.4  0.0\n",
      "3  0.0  0.6  0.0\n",
      "4  0.0  0.8  0.0\n"
     ]
    }
   ],
   "source": [
    "data.y = equation_to_fit(data.x1, data.x2, *a)\n",
    "print(data.head())"
   ]
  },
  {
   "cell_type": "code",
   "execution_count": 31,
   "metadata": {
    "collapsed": true
   },
   "outputs": [],
   "source": [
    "# least_squares"
   ]
  },
  {
   "cell_type": "code",
   "execution_count": 6,
   "metadata": {},
   "outputs": [
    {
     "name": "stdout",
     "output_type": "stream",
     "text": [
      "[ 0.1         0.2         0.3         0.52915061  0.5         0.6\n",
      "  0.52914992  0.8         0.9       ]\n"
     ]
    }
   ],
   "source": [
    "def error_function(current_parameter_guess):\n",
    "    current_parameter_guess = tuple(current_parameter_guess)\n",
    "    y_guess = equation_to_fit(data.x1, data.x2, *current_parameter_guess) \n",
    "    error = y_guess - data.y\n",
    "    return error\n",
    "\n",
    "initial_guess = (1, 1, 1, 1, 1, 1, 1, 1, 1)\n",
    "low_bounds = [0, 0, 0, 0, 0, 0, 0, 0, 0]\n",
    "up_bounds = [10, 10, 10, 10, 10, 10, 10, 10, 10]\n",
    "least_squares_fitted_parameters = least_squares(error_function,\n",
    "                                                initial_guess, \n",
    "                                                bounds=(low_bounds, \n",
    "                                                up_bounds)\n",
    "                                                ).x\n",
    "print(least_squares_fitted_parameters)"
   ]
  },
  {
   "cell_type": "code",
   "execution_count": 7,
   "metadata": {},
   "outputs": [
    {
     "name": "stdout",
     "output_type": "stream",
     "text": [
      "6.308364643331464e-13\n",
      "0.0\n"
     ]
    }
   ],
   "source": [
    "print(np.mean(error_function(least_squares_fitted_parameters)))\n",
    "print(np.mean(error_function(a)))\n"
   ]
  },
  {
   "cell_type": "code",
   "execution_count": 25,
   "metadata": {},
   "outputs": [
    {
     "name": "stdout",
     "output_type": "stream",
     "text": [
      "(11, 11)\n"
     ]
    },
    {
     "data": {
      "image/png": "[encoded data removed]",
      "text/plain": [
       "<matplotlib.figure.Figure at 0x7f48ec86d320>"
      ]
     },
     "metadata": {},
     "output_type": "display_data"
    }
   ],
   "source": [
    "heat = np.empty([11,11])\n",
    "for a in range(0,11):\n",
    "    heat[a,:] = data.iloc[a*11:(a+1)*11,2]\n",
    "print(heat.shape)\n",
    "plt.imshow(heat, cmap=plt.cm.Reds, interpolation='none', extent=[0,2,2,0])\n",
    "plt.legend(loc = 'best')\n",
    "plt.grid()\n",
    "plt.show()"
   ]
  },
  {
   "cell_type": "code",
   "execution_count": 38,
   "metadata": {
    "collapsed": true
   },
   "outputs": [],
   "source": [
    "# Now let's compare them"
   ]
  },
  {
   "cell_type": "code",
   "execution_count": 11,
   "metadata": {},
   "outputs": [
    {
     "name": "stdout",
     "output_type": "stream",
     "text": [
      "The curve_fit parameters are estimated to be [ 0.86923314  8.91546611  1.23210541  0.69330163]\n",
      "The least_squares parameters are estimated to be [ 0.86923314  8.91546611  1.23210541  0.69330163]\n"
     ]
    }
   ],
   "source": [
    "print('The curve_fit parameters are estimated to be', curve_fit_fitted_parameters)\n",
    "print('The least_squares parameters are estimated to be', least_squares_fitted_parameters)"
   ]
  },
  {
   "cell_type": "code",
   "execution_count": 13,
   "metadata": {},
   "outputs": [
    {
     "data": {
      "image/png": "[encoded data removed]",
      "text/plain": [
       "<matplotlib.figure.Figure at 0x233063a5940>"
      ]
     },
     "metadata": {},
     "output_type": "display_data"
    }
   ],
   "source": [
    "xsmooth = np.linspace(min(data.x), max(data.x), 1000000)\n",
    "plt.scatter(data.x, data.y, c='b', label='data')\n",
    "plt.plot(xsmooth, equation_to_fit(xsmooth, *least_squares_fitted_parameters), c='r', label='least squares fit', ls = '--', zorder=1)\n",
    "plt.plot(xsmooth, equation_to_fit(xsmooth, *curve_fit_fitted_parameters), c='g', label='curve fit fit', zorder=0)\n",
    "\n",
    "plt.legend(loc = 'best')\n",
    "plt.xscale('log')\n",
    "plt.yscale('log')\n",
    "plt.grid()\n",
    "plt.show()"
   ]
  },
  {
   "cell_type": "code",
   "execution_count": null,
   "metadata": {
    "collapsed": true
   },
   "outputs": [],
   "source": []
  }
 ],
 "metadata": {
  "kernelspec": {
   "display_name": "Python 3",
   "language": "python",
   "name": "python3"
  },
  "language_info": {
   "codemirror_mode": {
    "name": "ipython",
    "version": 3
   },
   "file_extension": ".py",
   "mimetype": "text/x-python",
   "name": "python",
   "nbconvert_exporter": "python",
   "pygments_lexer": "ipython3",
   "version": "3.6.3"
  }
 },
 "nbformat": 4,
 "nbformat_minor": 2
}
